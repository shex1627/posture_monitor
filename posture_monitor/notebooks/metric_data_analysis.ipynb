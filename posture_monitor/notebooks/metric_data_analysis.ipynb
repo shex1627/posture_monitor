{
 "cells": [
  {
   "cell_type": "markdown",
   "metadata": {},
   "source": [
    "parse session data,\n",
    "\n",
    "session_start_end:\n",
    "    metric: metric_ts_df ts, metric)"
   ]
  },
  {
   "cell_type": "code",
   "execution_count": 1,
   "metadata": {
    "ExecuteTime": {
     "end_time": "2022-01-30T00:42:35.350456Z",
     "start_time": "2022-01-30T00:42:34.668770Z"
    }
   },
   "outputs": [],
   "source": [
    "import json\n",
    "import pandas as pd\n",
    "import numpy as np\n",
    "import matplotlib.pyplot as plt\n",
    "\n",
    "from pathlib import Path"
   ]
  },
  {
   "cell_type": "code",
   "execution_count": 2,
   "metadata": {
    "ExecuteTime": {
     "end_time": "2022-01-30T00:42:36.423730Z",
     "start_time": "2022-01-30T00:42:36.416719Z"
    }
   },
   "outputs": [],
   "source": [
    "def get_metric_df(metric_json: dict) -> pd.DataFrame:\n",
    "    \"\"\"\n",
    "    create a metric df based on metric json\n",
    "    \"\"\"\n",
    "    posture_data_lst = []\n",
    "    for ts, score in metric_json.items():\n",
    "        posture_data_lst.append((ts, score))\n",
    "    posture_data_df = pd.DataFrame(posture_data_lst, columns=['ts', 'value'])\n",
    "    posture_data_df['ts'] = posture_data_df['ts'].apply(int)\n",
    "    posture_data_df['session_time'] = posture_data_df['ts'] - posture_data_df['ts'].min()\n",
    "    return posture_data_df.sort_values(\"ts\")\n",
    "\n",
    "\n",
    "def get_session_metric_data(session_name: str) -> pd.DataFrame:\n",
    "    \"\"\"\n",
    "    read the folder that contains data for a single session\n",
    "    \"\"\"\n",
    "    posture_data_files = list(Path(session_name).glob(f\"*.json\"))\n",
    "    posture_data_dict = dict()\n",
    "    for file in posture_data_files:\n",
    "        metric_name = file.name.split(\".\")[0]\n",
    "        with open(file) as infile:\n",
    "            json_data = json.load(infile)\n",
    "            metric_df = get_metric_df(json_data)\n",
    "            metric_df['metric_name'] = metric_name\n",
    "            posture_data_dict[metric_name] = metric_df\n",
    "    return posture_data_dict"
   ]
  },
  {
   "cell_type": "code",
   "execution_count": 14,
   "metadata": {
    "ExecuteTime": {
     "end_time": "2022-01-30T00:45:04.044893Z",
     "start_time": "2022-01-30T00:45:04.040903Z"
    }
   },
   "outputs": [],
   "source": [
    "import os\n",
    "DATA_ROOT_DIR = '../posture_data'\n",
    "ARCHVE_DATA_ROOT_DIR = '../archive/test_dir'"
   ]
  },
  {
   "cell_type": "code",
   "execution_count": 52,
   "metadata": {
    "ExecuteTime": {
     "end_time": "2022-01-29T22:17:53.976729Z",
     "start_time": "2022-01-29T22:17:53.489934Z"
    }
   },
   "outputs": [],
   "source": [
    "metric_data = get_session_metric_data(\"test_dir/session_1643044722_1643057444\")"
   ]
  },
  {
   "cell_type": "code",
   "execution_count": 53,
   "metadata": {
    "ExecuteTime": {
     "end_time": "2022-01-29T22:17:54.022914Z",
     "start_time": "2022-01-29T22:17:54.018017Z"
    }
   },
   "outputs": [
    {
     "data": {
      "text/plain": [
       "dict_keys(['alert_ts', 'headdown', 'headdown_seconds', 'landmark_0_x', 'landmark_0_y', 'landmark_10_x', 'landmark_10_y', 'landmark_11_x', 'landmark_11_y', 'landmark_12_x', 'landmark_12_y', 'landmark_1_x', 'landmark_1_y', 'landmark_2_x', 'landmark_2_y', 'landmark_3_x', 'landmark_3_y', 'landmark_4_x', 'landmark_4_y', 'landmark_5_x', 'landmark_5_y', 'landmark_6_x', 'landmark_6_y', 'landmark_7_x', 'landmark_7_y', 'landmark_8_x', 'landmark_8_y', 'landmark_9_x', 'landmark_9_y', 'left_right_shoulder_y_diff', 'left_shoulder_x', 'left_shoulder_y', 'rightshoulder_down_seconds', 'right_shoulder_x', 'right_shoulder_y', 'shoulder_tilt_seconds'])"
      ]
     },
     "execution_count": 53,
     "metadata": {},
     "output_type": "execute_result"
    }
   ],
   "source": [
    "metric_data.keys()"
   ]
  },
  {
   "cell_type": "code",
   "execution_count": 82,
   "metadata": {
    "ExecuteTime": {
     "end_time": "2022-01-30T07:04:35.471147Z",
     "start_time": "2022-01-30T07:04:35.464140Z"
    },
    "scrolled": false
   },
   "outputs": [
    {
     "data": {
      "text/plain": [
       "[WindowsPath('../posture_data/session_1643504032_1643504038'),\n",
       " WindowsPath('../posture_data/session_1643504040_1643504172'),\n",
       " WindowsPath('../posture_data/session_1643504176_1643504176'),\n",
       " WindowsPath('../posture_data/session_1643504291_1643504523'),\n",
       " WindowsPath('../posture_data/session_1643505119_1643505125'),\n",
       " WindowsPath('../posture_data/session_1643505138_1643505178'),\n",
       " WindowsPath('../posture_data/session_1643505365_1643505372'),\n",
       " WindowsPath('../posture_data/session_1643505408_1643505484'),\n",
       " WindowsPath('../posture_data/session_1643521469_1643521606'),\n",
       " WindowsPath('../posture_data/session_1643521739_1643521850'),\n",
       " WindowsPath('../posture_data/session_1643521855_1643521896'),\n",
       " WindowsPath('../posture_data/session_1643521940_1643521991'),\n",
       " WindowsPath('../posture_data/session_1643522054_1643522172'),\n",
       " WindowsPath('../posture_data/session_1643522175_1643522195'),\n",
       " WindowsPath('../posture_data/session_1643522211_1643522246'),\n",
       " WindowsPath('../posture_data/session_1643522275_1643522896'),\n",
       " WindowsPath('../posture_data/session_1643522905_1643523202'),\n",
       " WindowsPath('../posture_data/session_1643523236_1643524094'),\n",
       " WindowsPath('../posture_data/session_1643524141_1643526225')]"
      ]
     },
     "execution_count": 82,
     "metadata": {},
     "output_type": "execute_result"
    }
   ],
   "source": [
    "session_data_dirs = list(Path(DATA_ROOT_DIR).glob(f\"session_16*_*\"))\n",
    "len(session_data_dirs)\n",
    "session_data_dirs"
   ]
  },
  {
   "cell_type": "code",
   "execution_count": 83,
   "metadata": {
    "ExecuteTime": {
     "end_time": "2022-01-30T07:04:36.941453Z",
     "start_time": "2022-01-30T07:04:36.151050Z"
    },
    "scrolled": false
   },
   "outputs": [
    {
     "name": "stdout",
     "output_type": "stream",
     "text": [
      "1643522277\n",
      "session score: 403 / 487\n",
      "\t alert_ts: 487\n",
      "\t good_posture: 616\n",
      "\t headdown: 496\n",
      "\t headdown_seconds: 490\n",
      "\t landmark_0_x: 487\n",
      "\t landmark_0_y: 487\n",
      "\t landmark_10_x: 487\n",
      "\t landmark_10_y: 487\n",
      "\t landmark_11_x: 487\n",
      "\t landmark_11_y: 487\n",
      "\t landmark_12_x: 487\n",
      "\t landmark_12_y: 487\n",
      "\t landmark_1_x: 487\n",
      "\t landmark_1_y: 487\n",
      "\t landmark_2_x: 487\n",
      "\t landmark_2_y: 487\n",
      "\t landmark_3_x: 487\n",
      "\t landmark_3_y: 487\n",
      "\t landmark_4_x: 487\n",
      "\t landmark_4_y: 487\n",
      "\t landmark_5_x: 487\n",
      "\t landmark_5_y: 487\n",
      "\t landmark_6_x: 487\n",
      "\t landmark_6_y: 487\n",
      "\t landmark_7_x: 487\n",
      "\t landmark_7_y: 487\n",
      "\t landmark_8_x: 487\n",
      "\t landmark_8_y: 487\n",
      "\t landmark_9_x: 487\n",
      "\t landmark_9_y: 487\n",
      "\t left_right_shoulder_y_diff: 496\n",
      "\t left_shoulder_x: 487\n",
      "\t left_shoulder_y: 487\n",
      "\t rightshoulder_down_seconds: 487\n",
      "\t right_shoulder_x: 487\n",
      "\t right_shoulder_y: 490\n",
      "\t shoulder_tilt_seconds: 490\n",
      "\n",
      "\n",
      "\n",
      "\n",
      "1643522907\n",
      "session score: 145 / 241\n",
      "\t alert_ts: 241\n",
      "\t good_posture: 297\n",
      "\t headdown: 246\n",
      "\t headdown_seconds: 243\n",
      "\t landmark_0_x: 241\n",
      "\t landmark_0_y: 241\n",
      "\t landmark_10_x: 241\n",
      "\t landmark_10_y: 241\n",
      "\t landmark_11_x: 241\n",
      "\t landmark_11_y: 241\n",
      "\t landmark_12_x: 241\n",
      "\t landmark_12_y: 241\n",
      "\t landmark_1_x: 241\n",
      "\t landmark_1_y: 241\n",
      "\t landmark_2_x: 241\n",
      "\t landmark_2_y: 241\n",
      "\t landmark_3_x: 241\n",
      "\t landmark_3_y: 241\n",
      "\t landmark_4_x: 241\n",
      "\t landmark_4_y: 241\n",
      "\t landmark_5_x: 241\n",
      "\t landmark_5_y: 241\n",
      "\t landmark_6_x: 241\n",
      "\t landmark_6_y: 241\n",
      "\t landmark_7_x: 241\n",
      "\t landmark_7_y: 241\n",
      "\t landmark_8_x: 241\n",
      "\t landmark_8_y: 241\n",
      "\t landmark_9_x: 241\n",
      "\t landmark_9_y: 241\n",
      "\t left_right_shoulder_y_diff: 244\n",
      "\t left_shoulder_x: 241\n",
      "\t left_shoulder_y: 241\n",
      "\t rightshoulder_down_seconds: 241\n",
      "\t right_shoulder_x: 241\n",
      "\t right_shoulder_y: 243\n",
      "\t shoulder_tilt_seconds: 243\n",
      "\n",
      "\n",
      "\n",
      "\n",
      "1643523238\n",
      "session score: 205 / 620\n",
      "\t alert_ts: 620\n",
      "\t good_posture: 857\n",
      "\t headdown: 623\n",
      "\t headdown_seconds: 621\n",
      "\t landmark_0_x: 620\n",
      "\t landmark_0_y: 620\n",
      "\t landmark_10_x: 620\n",
      "\t landmark_10_y: 620\n",
      "\t landmark_11_x: 620\n",
      "\t landmark_11_y: 620\n",
      "\t landmark_12_x: 620\n",
      "\t landmark_12_y: 620\n",
      "\t landmark_1_x: 620\n",
      "\t landmark_1_y: 620\n",
      "\t landmark_2_x: 620\n",
      "\t landmark_2_y: 620\n",
      "\t landmark_3_x: 620\n",
      "\t landmark_3_y: 620\n",
      "\t landmark_4_x: 620\n",
      "\t landmark_4_y: 620\n",
      "\t landmark_5_x: 620\n",
      "\t landmark_5_y: 620\n",
      "\t landmark_6_x: 620\n",
      "\t landmark_6_y: 620\n",
      "\t landmark_7_x: 620\n",
      "\t landmark_7_y: 620\n",
      "\t landmark_8_x: 620\n",
      "\t landmark_8_y: 620\n",
      "\t landmark_9_x: 620\n",
      "\t landmark_9_y: 620\n",
      "\t left_right_shoulder_y_diff: 623\n",
      "\t left_shoulder_x: 620\n",
      "\t left_shoulder_y: 620\n",
      "\t rightshoulder_down_seconds: 620\n",
      "\t right_shoulder_x: 620\n",
      "\t right_shoulder_y: 621\n",
      "\t shoulder_tilt_seconds: 621\n",
      "\n",
      "\n",
      "\n",
      "\n",
      "1643524143\n",
      "session score: 98 / 208\n",
      "\t alert_ts: 208\n",
      "\t good_posture: 208\n",
      "\t headdown: 214\n",
      "\t headdown_seconds: 210\n",
      "\t landmark_0_x: 208\n",
      "\t landmark_0_y: 208\n",
      "\t landmark_10_x: 208\n",
      "\t landmark_10_y: 208\n",
      "\t landmark_11_x: 208\n",
      "\t landmark_11_y: 208\n",
      "\t landmark_12_x: 208\n",
      "\t landmark_12_y: 208\n",
      "\t landmark_1_x: 208\n",
      "\t landmark_1_y: 208\n",
      "\t landmark_2_x: 208\n",
      "\t landmark_2_y: 208\n",
      "\t landmark_3_x: 208\n",
      "\t landmark_3_y: 208\n",
      "\t landmark_4_x: 208\n",
      "\t landmark_4_y: 208\n",
      "\t landmark_5_x: 208\n",
      "\t landmark_5_y: 208\n",
      "\t landmark_6_x: 208\n",
      "\t landmark_6_y: 208\n",
      "\t landmark_7_x: 208\n",
      "\t landmark_7_y: 208\n",
      "\t landmark_8_x: 208\n",
      "\t landmark_8_y: 208\n",
      "\t landmark_9_x: 208\n",
      "\t landmark_9_y: 208\n",
      "\t left_right_shoulder_y_diff: 211\n",
      "\t left_shoulder_x: 208\n",
      "\t left_shoulder_y: 208\n",
      "\t rightshoulder_down_seconds: 208\n",
      "\t right_shoulder_x: 208\n",
      "\t right_shoulder_y: 210\n",
      "\t shoulder_tilt_seconds: 210\n",
      "\n",
      "\n",
      "\n",
      "\n"
     ]
    }
   ],
   "source": [
    "for session_data_dir in session_data_dirs:\n",
    "    start_time = int(session_data_dir.name.split(\"_\")[1])\n",
    "    if  start_time < 1643522275:\n",
    "            continue\n",
    "    metric_data = get_session_metric_data(session_data_dir)\n",
    "    if 'alert_ts' in metric_data and metric_data['alert_ts'].shape[0] >= 10:\n",
    "        print(metric_data['alert_ts']['ts'].min())\n",
    "        session_duration_seconds= metric_data['alert_ts'].shape[0]\n",
    "        print(f\"session score: {(metric_data['alert_ts']['value']==0).sum()} / {session_duration_seconds}\")\n",
    "        last_metric_data = metric_data\n",
    "        for metric, df in last_metric_data.items():\n",
    "            print(f\"\\t {metric}: {df.shape[0]}\")\n",
    "        print(\"\\n\\n\\n\")"
   ]
  },
  {
   "cell_type": "code",
   "execution_count": 89,
   "metadata": {
    "ExecuteTime": {
     "end_time": "2022-01-30T07:06:28.648689Z",
     "start_time": "2022-01-30T07:06:28.644672Z"
    }
   },
   "outputs": [
    {
     "data": {
      "text/plain": [
       "0.1971153846153846"
      ]
     },
     "execution_count": 89,
     "metadata": {},
     "output_type": "execute_result"
    }
   ],
   "source": [
    "last_metric_data['good_posture']['value'].mean()"
   ]
  },
  {
   "cell_type": "code",
   "execution_count": 91,
   "metadata": {
    "ExecuteTime": {
     "end_time": "2022-01-30T07:06:32.907681Z",
     "start_time": "2022-01-30T07:06:32.904688Z"
    }
   },
   "outputs": [],
   "source": [
    "# (last_metric_data['good_posture']['ts'].max(), last_metric_data['left_right_shoulder_y_diff'].max())"
   ]
  },
  {
   "cell_type": "code",
   "execution_count": 99,
   "metadata": {
    "ExecuteTime": {
     "end_time": "2022-01-30T07:07:49.622028Z",
     "start_time": "2022-01-30T07:07:49.609063Z"
    }
   },
   "outputs": [
    {
     "data": {
      "text/html": [
       "<div>\n",
       "<style scoped>\n",
       "    .dataframe tbody tr th:only-of-type {\n",
       "        vertical-align: middle;\n",
       "    }\n",
       "\n",
       "    .dataframe tbody tr th {\n",
       "        vertical-align: top;\n",
       "    }\n",
       "\n",
       "    .dataframe thead th {\n",
       "        text-align: right;\n",
       "    }\n",
       "</style>\n",
       "<table border=\"1\" class=\"dataframe\">\n",
       "  <thead>\n",
       "    <tr style=\"text-align: right;\">\n",
       "      <th></th>\n",
       "      <th>index</th>\n",
       "      <th>ts</th>\n",
       "      <th>value</th>\n",
       "      <th>session_time</th>\n",
       "      <th>metric_name</th>\n",
       "    </tr>\n",
       "  </thead>\n",
       "  <tbody>\n",
       "    <tr>\n",
       "      <td>0</td>\n",
       "      <td>1</td>\n",
       "      <td>1643524142</td>\n",
       "      <td>0.000000</td>\n",
       "      <td>0</td>\n",
       "      <td>left_right_shoulder_y_diff</td>\n",
       "    </tr>\n",
       "    <tr>\n",
       "      <td>1</td>\n",
       "      <td>0</td>\n",
       "      <td>1643524143</td>\n",
       "      <td>0.006836</td>\n",
       "      <td>1</td>\n",
       "      <td>left_right_shoulder_y_diff</td>\n",
       "    </tr>\n",
       "    <tr>\n",
       "      <td>2</td>\n",
       "      <td>2</td>\n",
       "      <td>1643524144</td>\n",
       "      <td>0.008580</td>\n",
       "      <td>2</td>\n",
       "      <td>left_right_shoulder_y_diff</td>\n",
       "    </tr>\n",
       "    <tr>\n",
       "      <td>3</td>\n",
       "      <td>3</td>\n",
       "      <td>1643524145</td>\n",
       "      <td>0.018293</td>\n",
       "      <td>3</td>\n",
       "      <td>left_right_shoulder_y_diff</td>\n",
       "    </tr>\n",
       "    <tr>\n",
       "      <td>4</td>\n",
       "      <td>4</td>\n",
       "      <td>1643524146</td>\n",
       "      <td>0.022522</td>\n",
       "      <td>4</td>\n",
       "      <td>left_right_shoulder_y_diff</td>\n",
       "    </tr>\n",
       "    <tr>\n",
       "      <td>...</td>\n",
       "      <td>...</td>\n",
       "      <td>...</td>\n",
       "      <td>...</td>\n",
       "      <td>...</td>\n",
       "      <td>...</td>\n",
       "    </tr>\n",
       "    <tr>\n",
       "      <td>206</td>\n",
       "      <td>206</td>\n",
       "      <td>1643526221</td>\n",
       "      <td>0.014744</td>\n",
       "      <td>2079</td>\n",
       "      <td>left_right_shoulder_y_diff</td>\n",
       "    </tr>\n",
       "    <tr>\n",
       "      <td>207</td>\n",
       "      <td>207</td>\n",
       "      <td>1643526222</td>\n",
       "      <td>0.070412</td>\n",
       "      <td>2080</td>\n",
       "      <td>left_right_shoulder_y_diff</td>\n",
       "    </tr>\n",
       "    <tr>\n",
       "      <td>208</td>\n",
       "      <td>208</td>\n",
       "      <td>1643526223</td>\n",
       "      <td>0.075552</td>\n",
       "      <td>2081</td>\n",
       "      <td>left_right_shoulder_y_diff</td>\n",
       "    </tr>\n",
       "    <tr>\n",
       "      <td>209</td>\n",
       "      <td>209</td>\n",
       "      <td>1643526224</td>\n",
       "      <td>0.035565</td>\n",
       "      <td>2082</td>\n",
       "      <td>left_right_shoulder_y_diff</td>\n",
       "    </tr>\n",
       "    <tr>\n",
       "      <td>210</td>\n",
       "      <td>210</td>\n",
       "      <td>1643526225</td>\n",
       "      <td>0.033725</td>\n",
       "      <td>2083</td>\n",
       "      <td>left_right_shoulder_y_diff</td>\n",
       "    </tr>\n",
       "  </tbody>\n",
       "</table>\n",
       "<p>211 rows × 5 columns</p>\n",
       "</div>"
      ],
      "text/plain": [
       "     index          ts     value  session_time                 metric_name\n",
       "0        1  1643524142  0.000000             0  left_right_shoulder_y_diff\n",
       "1        0  1643524143  0.006836             1  left_right_shoulder_y_diff\n",
       "2        2  1643524144  0.008580             2  left_right_shoulder_y_diff\n",
       "3        3  1643524145  0.018293             3  left_right_shoulder_y_diff\n",
       "4        4  1643524146  0.022522             4  left_right_shoulder_y_diff\n",
       "..     ...         ...       ...           ...                         ...\n",
       "206    206  1643526221  0.014744          2079  left_right_shoulder_y_diff\n",
       "207    207  1643526222  0.070412          2080  left_right_shoulder_y_diff\n",
       "208    208  1643526223  0.075552          2081  left_right_shoulder_y_diff\n",
       "209    209  1643526224  0.035565          2082  left_right_shoulder_y_diff\n",
       "210    210  1643526225  0.033725          2083  left_right_shoulder_y_diff\n",
       "\n",
       "[211 rows x 5 columns]"
      ]
     },
     "execution_count": 99,
     "metadata": {},
     "output_type": "execute_result"
    }
   ],
   "source": [
    "last_metric_data['left_right_shoulder_y_diff'].reset_index()"
   ]
  },
  {
   "cell_type": "code",
   "execution_count": 100,
   "metadata": {
    "ExecuteTime": {
     "end_time": "2022-01-30T07:07:58.569210Z",
     "start_time": "2022-01-30T07:07:58.426738Z"
    }
   },
   "outputs": [
    {
     "data": {
      "text/plain": [
       "(array([   0.,  250.,  500.,  750., 1000., 1250., 1500., 1750., 2000.,\n",
       "        2250.]), <a list of 10 Text xticklabel objects>)"
      ]
     },
     "execution_count": 100,
     "metadata": {},
     "output_type": "execute_result"
    },
    {
     "data": {
      "image/png": "[encoded data removed]",
      "text/plain": [
       "<Figure size 432x288 with 1 Axes>"
      ]
     },
     "metadata": {
      "needs_background": "light"
     },
     "output_type": "display_data"
    }
   ],
   "source": [
    "last_metric_data['left_right_shoulder_y_diff'].reset_index().plot(x='session_time',y='value')\n",
    "plt.xticks(rotation=90)"
   ]
  },
  {
   "cell_type": "code",
   "execution_count": 102,
   "metadata": {
    "ExecuteTime": {
     "end_time": "2022-01-30T07:08:07.042643Z",
     "start_time": "2022-01-30T07:08:06.909839Z"
    }
   },
   "outputs": [
    {
     "data": {
      "text/plain": [
       "(array([  0.,  25.,  50.,  75., 100., 125., 150., 175., 200., 225.]),\n",
       " <a list of 10 Text xticklabel objects>)"
      ]
     },
     "execution_count": 102,
     "metadata": {},
     "output_type": "execute_result"
    },
    {
     "data": {
      "image/png": "[encoded data removed]",
      "text/plain": [
       "<Figure size 432x288 with 1 Axes>"
      ]
     },
     "metadata": {
      "needs_background": "light"
     },
     "output_type": "display_data"
    }
   ],
   "source": [
    "last_metric_data['left_right_shoulder_y_diff'].reset_index().plot(x='index',y='value')\n",
    "plt.xticks(rotation=90)"
   ]
  },
  {
   "cell_type": "code",
   "execution_count": 104,
   "metadata": {
    "ExecuteTime": {
     "end_time": "2022-01-30T07:09:18.277538Z",
     "start_time": "2022-01-30T07:09:18.118249Z"
    }
   },
   "outputs": [
    {
     "data": {
      "text/plain": [
       "(array([  0.,  25.,  50.,  75., 100., 125., 150., 175., 200., 225.]),\n",
       " <a list of 10 Text xticklabel objects>)"
      ]
     },
     "execution_count": 104,
     "metadata": {},
     "output_type": "execute_result"
    },
    {
     "data": {
      "image/png": "[encoded data removed]",
      "text/plain": [
       "<Figure size 432x288 with 1 Axes>"
      ]
     },
     "metadata": {
      "needs_background": "light"
     },
     "output_type": "display_data"
    }
   ],
   "source": [
    "last_metric_data['good_posture'].reset_index().plot(x='index',y='value')\n",
    "plt.xticks(rotation=90)"
   ]
  },
  {
   "cell_type": "code",
   "execution_count": 105,
   "metadata": {
    "ExecuteTime": {
     "end_time": "2022-01-30T07:09:19.199899Z",
     "start_time": "2022-01-30T07:09:19.195909Z"
    }
   },
   "outputs": [],
   "source": [
    "posture_data_files = list(Path(\"test_dir/session_1642373199\").glob(f\"*.json\"))"
   ]
  },
  {
   "cell_type": "raw",
   "metadata": {
    "ExecuteTime": {
     "end_time": "2022-01-17T02:09:32.071789Z",
     "start_time": "2022-01-17T02:09:32.062281Z"
    }
   },
   "source": [
    "def ts_dict_to_df(ts_dict: str) -> pd.DataFrame:\n",
    "    ts_df = pd.DataFrame(ts_dict.items(), columns=['ts', 'metric'])\n",
    "    ts_df['ts'] = ts_df['ts'].apply(int)\n",
    "    ts_df['ts_norm'] = ts_df['ts'] - ts_df['ts'].min()\n",
    "    return ts_df"
   ]
  },
  {
   "cell_type": "raw",
   "metadata": {
    "ExecuteTime": {
     "end_time": "2022-01-17T02:09:32.193450Z",
     "start_time": "2022-01-17T02:09:32.072786Z"
    }
   },
   "source": [
    "metric_ts_dict = {}\n",
    "for file in posture_data_files:\n",
    "    metric_name = file.name.split(\".\")[0]\n",
    "    with open(file) as infile:\n",
    "        json_data = json.load(infile)\n",
    "        metric_ts_dict[metric_name] = ts_dict_to_df(json_data)"
   ]
  },
  {
   "cell_type": "code",
   "execution_count": 107,
   "metadata": {
    "ExecuteTime": {
     "end_time": "2022-01-30T07:09:58.840740Z",
     "start_time": "2022-01-30T07:09:58.837719Z"
    }
   },
   "outputs": [],
   "source": [
    "metric_ts_dict = last_metric_data"
   ]
  },
  {
   "cell_type": "code",
   "execution_count": 108,
   "metadata": {
    "ExecuteTime": {
     "end_time": "2022-01-30T07:09:58.852363Z",
     "start_time": "2022-01-30T07:09:58.841709Z"
    },
    "scrolled": false
   },
   "outputs": [
    {
     "data": {
      "text/plain": [
       "dict_keys(['alert_ts', 'good_posture', 'headdown', 'headdown_seconds', 'landmark_0_x', 'landmark_0_y', 'landmark_10_x', 'landmark_10_y', 'landmark_11_x', 'landmark_11_y', 'landmark_12_x', 'landmark_12_y', 'landmark_1_x', 'landmark_1_y', 'landmark_2_x', 'landmark_2_y', 'landmark_3_x', 'landmark_3_y', 'landmark_4_x', 'landmark_4_y', 'landmark_5_x', 'landmark_5_y', 'landmark_6_x', 'landmark_6_y', 'landmark_7_x', 'landmark_7_y', 'landmark_8_x', 'landmark_8_y', 'landmark_9_x', 'landmark_9_y', 'left_right_shoulder_y_diff', 'left_shoulder_x', 'left_shoulder_y', 'rightshoulder_down_seconds', 'right_shoulder_x', 'right_shoulder_y', 'shoulder_tilt_seconds'])"
      ]
     },
     "execution_count": 108,
     "metadata": {},
     "output_type": "execute_result"
    }
   ],
   "source": [
    "metric_ts_dict.keys()"
   ]
  },
  {
   "cell_type": "code",
   "execution_count": 111,
   "metadata": {
    "ExecuteTime": {
     "end_time": "2022-01-30T07:10:18.087135Z",
     "start_time": "2022-01-30T07:10:18.076359Z"
    }
   },
   "outputs": [
    {
     "data": {
      "text/html": [
       "<div>\n",
       "<style scoped>\n",
       "    .dataframe tbody tr th:only-of-type {\n",
       "        vertical-align: middle;\n",
       "    }\n",
       "\n",
       "    .dataframe tbody tr th {\n",
       "        vertical-align: top;\n",
       "    }\n",
       "\n",
       "    .dataframe thead th {\n",
       "        text-align: right;\n",
       "    }\n",
       "</style>\n",
       "<table border=\"1\" class=\"dataframe\">\n",
       "  <thead>\n",
       "    <tr style=\"text-align: right;\">\n",
       "      <th></th>\n",
       "      <th>ts</th>\n",
       "      <th>value</th>\n",
       "      <th>session_time</th>\n",
       "      <th>metric_name</th>\n",
       "    </tr>\n",
       "  </thead>\n",
       "  <tbody>\n",
       "    <tr>\n",
       "      <td>0</td>\n",
       "      <td>1643524143</td>\n",
       "      <td>0.574513</td>\n",
       "      <td>0</td>\n",
       "      <td>left_shoulder_y</td>\n",
       "    </tr>\n",
       "    <tr>\n",
       "      <td>1</td>\n",
       "      <td>1643524144</td>\n",
       "      <td>0.545709</td>\n",
       "      <td>1</td>\n",
       "      <td>left_shoulder_y</td>\n",
       "    </tr>\n",
       "    <tr>\n",
       "      <td>2</td>\n",
       "      <td>1643524145</td>\n",
       "      <td>0.530209</td>\n",
       "      <td>2</td>\n",
       "      <td>left_shoulder_y</td>\n",
       "    </tr>\n",
       "    <tr>\n",
       "      <td>3</td>\n",
       "      <td>1643524146</td>\n",
       "      <td>0.563347</td>\n",
       "      <td>3</td>\n",
       "      <td>left_shoulder_y</td>\n",
       "    </tr>\n",
       "    <tr>\n",
       "      <td>4</td>\n",
       "      <td>1643524147</td>\n",
       "      <td>0.586734</td>\n",
       "      <td>4</td>\n",
       "      <td>left_shoulder_y</td>\n",
       "    </tr>\n",
       "    <tr>\n",
       "      <td>...</td>\n",
       "      <td>...</td>\n",
       "      <td>...</td>\n",
       "      <td>...</td>\n",
       "      <td>...</td>\n",
       "    </tr>\n",
       "    <tr>\n",
       "      <td>203</td>\n",
       "      <td>1643526221</td>\n",
       "      <td>0.588978</td>\n",
       "      <td>2078</td>\n",
       "      <td>left_shoulder_y</td>\n",
       "    </tr>\n",
       "    <tr>\n",
       "      <td>204</td>\n",
       "      <td>1643526222</td>\n",
       "      <td>0.531485</td>\n",
       "      <td>2079</td>\n",
       "      <td>left_shoulder_y</td>\n",
       "    </tr>\n",
       "    <tr>\n",
       "      <td>205</td>\n",
       "      <td>1643526223</td>\n",
       "      <td>0.517125</td>\n",
       "      <td>2080</td>\n",
       "      <td>left_shoulder_y</td>\n",
       "    </tr>\n",
       "    <tr>\n",
       "      <td>206</td>\n",
       "      <td>1643526224</td>\n",
       "      <td>0.547599</td>\n",
       "      <td>2081</td>\n",
       "      <td>left_shoulder_y</td>\n",
       "    </tr>\n",
       "    <tr>\n",
       "      <td>207</td>\n",
       "      <td>1643526225</td>\n",
       "      <td>0.559504</td>\n",
       "      <td>2082</td>\n",
       "      <td>left_shoulder_y</td>\n",
       "    </tr>\n",
       "  </tbody>\n",
       "</table>\n",
       "<p>208 rows × 4 columns</p>\n",
       "</div>"
      ],
      "text/plain": [
       "             ts     value  session_time      metric_name\n",
       "0    1643524143  0.574513             0  left_shoulder_y\n",
       "1    1643524144  0.545709             1  left_shoulder_y\n",
       "2    1643524145  0.530209             2  left_shoulder_y\n",
       "3    1643524146  0.563347             3  left_shoulder_y\n",
       "4    1643524147  0.586734             4  left_shoulder_y\n",
       "..          ...       ...           ...              ...\n",
       "203  1643526221  0.588978          2078  left_shoulder_y\n",
       "204  1643526222  0.531485          2079  left_shoulder_y\n",
       "205  1643526223  0.517125          2080  left_shoulder_y\n",
       "206  1643526224  0.547599          2081  left_shoulder_y\n",
       "207  1643526225  0.559504          2082  left_shoulder_y\n",
       "\n",
       "[208 rows x 4 columns]"
      ]
     },
     "execution_count": 111,
     "metadata": {},
     "output_type": "execute_result"
    }
   ],
   "source": [
    "metric_ts_dict['left_shoulder_y']"
   ]
  },
  {
   "cell_type": "code",
   "execution_count": 113,
   "metadata": {
    "ExecuteTime": {
     "end_time": "2022-01-30T07:10:34.310893Z",
     "start_time": "2022-01-30T07:10:34.160990Z"
    }
   },
   "outputs": [
    {
     "data": {
      "text/plain": [
       "<matplotlib.axes._subplots.AxesSubplot at 0x1d0e16d8508>"
      ]
     },
     "execution_count": 113,
     "metadata": {},
     "output_type": "execute_result"
    },
    {
     "data": {
      "image/png": "[encoded data removed]",
      "text/plain": [
       "<Figure size 432x288 with 1 Axes>"
      ]
     },
     "metadata": {
      "needs_background": "light"
     },
     "output_type": "display_data"
    }
   ],
   "source": [
    "metric_ts_dict['left_shoulder_y'].plot(x='session_time', y='value')"
   ]
  },
  {
   "cell_type": "code",
   "execution_count": 114,
   "metadata": {
    "ExecuteTime": {
     "end_time": "2022-01-30T07:11:07.302100Z",
     "start_time": "2022-01-30T07:11:07.162842Z"
    }
   },
   "outputs": [
    {
     "data": {
      "text/plain": [
       "<matplotlib.axes._subplots.AxesSubplot at 0x1d0e1624848>"
      ]
     },
     "execution_count": 114,
     "metadata": {},
     "output_type": "execute_result"
    },
    {
     "data": {
      "image/png": "[encoded data removed]",
      "text/plain": [
       "<Figure size 432x288 with 1 Axes>"
      ]
     },
     "metadata": {
      "needs_background": "light"
     },
     "output_type": "display_data"
    }
   ],
   "source": [
    "metric_ts_dict['right_shoulder_y'].plot(x='session_time', y='value')"
   ]
  },
  {
   "cell_type": "code",
   "execution_count": 115,
   "metadata": {
    "ExecuteTime": {
     "end_time": "2022-01-30T07:11:08.430172Z",
     "start_time": "2022-01-30T07:11:08.257847Z"
    }
   },
   "outputs": [
    {
     "data": {
      "text/plain": [
       "<matplotlib.axes._subplots.AxesSubplot at 0x1d0e17abe08>"
      ]
     },
     "execution_count": 115,
     "metadata": {},
     "output_type": "execute_result"
    },
    {
     "data": {
      "image/png": "[encoded data removed]",
      "text/plain": [
       "<Figure size 432x288 with 1 Axes>"
      ]
     },
     "metadata": {
      "needs_background": "light"
     },
     "output_type": "display_data"
    }
   ],
   "source": [
    "metric_ts_dict['shoulder_tilt_seconds'].plot(x='session_time', y='value')"
   ]
  },
  {
   "cell_type": "markdown",
   "metadata": {},
   "source": [
    "#### percentage of time head is down"
   ]
  },
  {
   "cell_type": "code",
   "execution_count": 116,
   "metadata": {
    "ExecuteTime": {
     "end_time": "2022-01-30T07:11:10.847017Z",
     "start_time": "2022-01-30T07:11:10.840010Z"
    }
   },
   "outputs": [
    {
     "data": {
      "text/plain": [
       "ts              214\n",
       "value           214\n",
       "session_time    214\n",
       "metric_name     214\n",
       "dtype: int64"
      ]
     },
     "execution_count": 116,
     "metadata": {},
     "output_type": "execute_result"
    }
   ],
   "source": [
    "metric_ts_dict['headdown'].count()"
   ]
  },
  {
   "cell_type": "code",
   "execution_count": 117,
   "metadata": {
    "ExecuteTime": {
     "end_time": "2022-01-30T07:11:15.142369Z",
     "start_time": "2022-01-30T07:11:15.138379Z"
    }
   },
   "outputs": [
    {
     "data": {
      "text/plain": [
       "0.5"
      ]
     },
     "execution_count": 117,
     "metadata": {},
     "output_type": "execute_result"
    }
   ],
   "source": [
    "metric_ts_dict['headdown_seconds']['value'].mean()"
   ]
  },
  {
   "cell_type": "code",
   "execution_count": 120,
   "metadata": {
    "ExecuteTime": {
     "end_time": "2022-01-30T07:11:33.595095Z",
     "start_time": "2022-01-30T07:11:33.589354Z"
    }
   },
   "outputs": [
    {
     "data": {
      "text/plain": [
       "0.27102803738317754"
      ]
     },
     "execution_count": 120,
     "metadata": {},
     "output_type": "execute_result"
    }
   ],
   "source": [
    "(metric_ts_dict['headdown']['value']<0.25).astype(int).mean() # XD"
   ]
  },
  {
   "cell_type": "markdown",
   "metadata": {},
   "source": [
    "#### percent shoulder tilt"
   ]
  },
  {
   "cell_type": "code",
   "execution_count": 121,
   "metadata": {
    "ExecuteTime": {
     "end_time": "2022-01-30T07:11:46.771689Z",
     "start_time": "2022-01-30T07:11:46.767700Z"
    }
   },
   "outputs": [
    {
     "data": {
      "text/plain": [
       "Index(['ts', 'value', 'session_time', 'metric_name'], dtype='object')"
      ]
     },
     "execution_count": 121,
     "metadata": {},
     "output_type": "execute_result"
    }
   ],
   "source": [
    "metric_ts_dict['left_shoulder_y'].columns"
   ]
  },
  {
   "cell_type": "code",
   "execution_count": 122,
   "metadata": {
    "ExecuteTime": {
     "end_time": "2022-01-30T07:11:49.352111Z",
     "start_time": "2022-01-30T07:11:49.327548Z"
    }
   },
   "outputs": [
    {
     "data": {
      "text/html": [
       "<div>\n",
       "<style scoped>\n",
       "    .dataframe tbody tr th:only-of-type {\n",
       "        vertical-align: middle;\n",
       "    }\n",
       "\n",
       "    .dataframe tbody tr th {\n",
       "        vertical-align: top;\n",
       "    }\n",
       "\n",
       "    .dataframe thead th {\n",
       "        text-align: right;\n",
       "    }\n",
       "</style>\n",
       "<table border=\"1\" class=\"dataframe\">\n",
       "  <thead>\n",
       "    <tr style=\"text-align: right;\">\n",
       "      <th></th>\n",
       "      <th>ts</th>\n",
       "      <th>value_x</th>\n",
       "      <th>session_time_x</th>\n",
       "      <th>metric_name_x</th>\n",
       "      <th>value_y</th>\n",
       "      <th>session_time_y</th>\n",
       "      <th>metric_name_y</th>\n",
       "    </tr>\n",
       "  </thead>\n",
       "  <tbody>\n",
       "    <tr>\n",
       "      <td>0</td>\n",
       "      <td>1643524143</td>\n",
       "      <td>0.580832</td>\n",
       "      <td>1</td>\n",
       "      <td>right_shoulder_y</td>\n",
       "      <td>0.574513</td>\n",
       "      <td>0</td>\n",
       "      <td>left_shoulder_y</td>\n",
       "    </tr>\n",
       "    <tr>\n",
       "      <td>1</td>\n",
       "      <td>1643524144</td>\n",
       "      <td>0.548009</td>\n",
       "      <td>2</td>\n",
       "      <td>right_shoulder_y</td>\n",
       "      <td>0.545709</td>\n",
       "      <td>1</td>\n",
       "      <td>left_shoulder_y</td>\n",
       "    </tr>\n",
       "    <tr>\n",
       "      <td>2</td>\n",
       "      <td>1643524145</td>\n",
       "      <td>0.547424</td>\n",
       "      <td>3</td>\n",
       "      <td>right_shoulder_y</td>\n",
       "      <td>0.530209</td>\n",
       "      <td>2</td>\n",
       "      <td>left_shoulder_y</td>\n",
       "    </tr>\n",
       "    <tr>\n",
       "      <td>3</td>\n",
       "      <td>1643524146</td>\n",
       "      <td>0.585869</td>\n",
       "      <td>4</td>\n",
       "      <td>right_shoulder_y</td>\n",
       "      <td>0.563347</td>\n",
       "      <td>3</td>\n",
       "      <td>left_shoulder_y</td>\n",
       "    </tr>\n",
       "    <tr>\n",
       "      <td>4</td>\n",
       "      <td>1643524147</td>\n",
       "      <td>0.587549</td>\n",
       "      <td>5</td>\n",
       "      <td>right_shoulder_y</td>\n",
       "      <td>0.586734</td>\n",
       "      <td>4</td>\n",
       "      <td>left_shoulder_y</td>\n",
       "    </tr>\n",
       "  </tbody>\n",
       "</table>\n",
       "</div>"
      ],
      "text/plain": [
       "           ts   value_x  session_time_x     metric_name_x   value_y  \\\n",
       "0  1643524143  0.580832               1  right_shoulder_y  0.574513   \n",
       "1  1643524144  0.548009               2  right_shoulder_y  0.545709   \n",
       "2  1643524145  0.547424               3  right_shoulder_y  0.530209   \n",
       "3  1643524146  0.585869               4  right_shoulder_y  0.563347   \n",
       "4  1643524147  0.587549               5  right_shoulder_y  0.586734   \n",
       "\n",
       "   session_time_y    metric_name_y  \n",
       "0               0  left_shoulder_y  \n",
       "1               1  left_shoulder_y  \n",
       "2               2  left_shoulder_y  \n",
       "3               3  left_shoulder_y  \n",
       "4               4  left_shoulder_y  "
      ]
     },
     "execution_count": 122,
     "metadata": {},
     "output_type": "execute_result"
    }
   ],
   "source": [
    "merge_df = metric_ts_dict['right_shoulder_y'].merge(metric_ts_dict['left_shoulder_y'], on=['ts'])\n",
    "merge_df.head()"
   ]
  },
  {
   "cell_type": "code",
   "execution_count": 124,
   "metadata": {
    "ExecuteTime": {
     "end_time": "2022-01-30T07:12:05.121300Z",
     "start_time": "2022-01-30T07:12:05.117311Z"
    }
   },
   "outputs": [
    {
     "data": {
      "text/plain": [
       "0.11428571428571428"
      ]
     },
     "execution_count": 124,
     "metadata": {},
     "output_type": "execute_result"
    }
   ],
   "source": [
    "metric_ts_dict['shoulder_tilt_seconds']['value'].mean()"
   ]
  },
  {
   "cell_type": "code",
   "execution_count": null,
   "metadata": {
    "ExecuteTime": {
     "end_time": "2022-01-30T07:12:29.533721Z",
     "start_time": "2022-01-30T07:12:29.528285Z"
    }
   },
   "outputs": [],
   "source": [
    "##### (np.abs(merge_df['value_x'] - merge_df['value_y']) >= 0.02).mean()"
   ]
  },
  {
   "cell_type": "code",
   "execution_count": null,
   "metadata": {},
   "outputs": [],
   "source": []
  }
 ],
 "metadata": {
  "kernelspec": {
   "display_name": "Python 3",
   "language": "python",
   "name": "python3"
  },
  "language_info": {
   "codemirror_mode": {
    "name": "ipython",
    "version": 3
   },
   "file_extension": ".py",
   "mimetype": "text/x-python",
   "name": "python",
   "nbconvert_exporter": "python",
   "pygments_lexer": "ipython3",
   "version": "3.7.4"
  },
  "toc": {
   "base_numbering": 1,
   "nav_menu": {},
   "number_sections": true,
   "sideBar": true,
   "skip_h1_title": false,
   "title_cell": "Table of Contents",
   "title_sidebar": "Contents",
   "toc_cell": false,
   "toc_position": {},
   "toc_section_display": true,
   "toc_window_display": true
  }
 },
 "nbformat": 4,
 "nbformat_minor": 2
}
