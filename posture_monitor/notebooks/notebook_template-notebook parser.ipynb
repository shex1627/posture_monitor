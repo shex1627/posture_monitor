{
 "cells": [
  {
   "cell_type": "markdown",
   "metadata": {},
   "source": [
    "# Problem Statement"
   ]
  },
  {
   "cell_type": "markdown",
   "metadata": {},
   "source": [
    "# Approach"
   ]
  },
  {
   "cell_type": "markdown",
   "metadata": {},
   "source": [
    "# Result"
   ]
  },
  {
   "cell_type": "markdown",
   "metadata": {},
   "source": [
    "# Conclusion"
   ]
  },
  {
   "cell_type": "markdown",
   "metadata": {},
   "source": [
    "### follow-up"
   ]
  },
  {
   "cell_type": "code",
   "execution_count": 13,
   "metadata": {
    "ExecuteTime": {
     "end_time": "2022-03-27T22:00:58.776433Z",
     "start_time": "2022-03-27T22:00:58.773411Z"
    }
   },
   "outputs": [],
   "source": [
    "import json"
   ]
  },
  {
   "cell_type": "code",
   "execution_count": 14,
   "metadata": {
    "ExecuteTime": {
     "end_time": "2022-03-27T22:00:58.790366Z",
     "start_time": "2022-03-27T22:00:58.777401Z"
    }
   },
   "outputs": [],
   "source": [
    "from pathlib import Path"
   ]
  },
  {
   "cell_type": "code",
   "execution_count": 15,
   "metadata": {
    "ExecuteTime": {
     "end_time": "2022-03-27T22:00:58.802337Z",
     "start_time": "2022-03-27T22:00:58.792361Z"
    }
   },
   "outputs": [],
   "source": [
    "notebook_files = list(Path(\".\").glob(\"*.ipynb\"))"
   ]
  },
  {
   "cell_type": "code",
   "execution_count": 47,
   "metadata": {
    "ExecuteTime": {
     "end_time": "2022-03-27T22:10:02.194357Z",
     "start_time": "2022-03-27T22:10:02.189370Z"
    }
   },
   "outputs": [
    {
     "data": {
      "text/plain": [
       "[WindowsPath('experiment with metadata generation.ipynb'),\n",
       " WindowsPath('leaning_check.ipynb'),\n",
       " WindowsPath('metric_check-Copy1.ipynb'),\n",
       " WindowsPath('metric_check.ipynb'),\n",
       " WindowsPath('metric_dashboard.ipynb'),\n",
       " WindowsPath('metric_data_analysis.ipynb'),\n",
       " WindowsPath('notebook_template-Copy1.ipynb'),\n",
       " WindowsPath('notebook_template.ipynb')]"
      ]
     },
     "execution_count": 47,
     "metadata": {},
     "output_type": "execute_result"
    }
   ],
   "source": [
    "notebook_files"
   ]
  },
  {
   "cell_type": "code",
   "execution_count": 48,
   "metadata": {
    "ExecuteTime": {
     "end_time": "2022-03-27T22:10:03.238747Z",
     "start_time": "2022-03-27T22:10:03.233760Z"
    }
   },
   "outputs": [
    {
     "data": {
      "text/plain": [
       "WindowsPath('notebook_template.ipynb')"
      ]
     },
     "execution_count": 48,
     "metadata": {},
     "output_type": "execute_result"
    }
   ],
   "source": [
    "notebook_files[-1]"
   ]
  },
  {
   "cell_type": "code",
   "execution_count": 49,
   "metadata": {
    "ExecuteTime": {
     "end_time": "2022-03-27T22:10:04.993059Z",
     "start_time": "2022-03-27T22:10:04.989070Z"
    }
   },
   "outputs": [],
   "source": [
    "with open(notebook_files[-1], 'r') as file:\n",
    "    notebook_json = json.load(file)"
   ]
  },
  {
   "cell_type": "code",
   "execution_count": 50,
   "metadata": {
    "ExecuteTime": {
     "end_time": "2022-03-27T22:10:05.579628Z",
     "start_time": "2022-03-27T22:10:05.575639Z"
    }
   },
   "outputs": [],
   "source": [
    "def read_json_file(json_file_lst: list, index=0):\n",
    "    with open(notebook_files[index], 'r') as file:\n",
    "        notebook_json = json.load(file)\n",
    "    return notebook_json"
   ]
  },
  {
   "cell_type": "code",
   "execution_count": 51,
   "metadata": {
    "ExecuteTime": {
     "end_time": "2022-03-27T22:10:06.099980Z",
     "start_time": "2022-03-27T22:10:06.095990Z"
    }
   },
   "outputs": [],
   "source": [
    "keywords = ['problem statement', 'approach', 'result', 'conclusion', 'follow-up']\n",
    "keywords_found = {keyword: False for keyword in keywords}"
   ]
  },
  {
   "cell_type": "code",
   "execution_count": 52,
   "metadata": {
    "ExecuteTime": {
     "end_time": "2022-03-27T22:10:06.710361Z",
     "start_time": "2022-03-27T22:10:06.703379Z"
    }
   },
   "outputs": [],
   "source": [
    "def find_keywords_in_notebook_json(notebook_json: dict, keywords: list=\\\n",
    "                                    ['problem statement', 'approach', 'result', 'conclusion', 'follow-up']):\n",
    "    \"\"\"\n",
    "    parse a notebook json file's non-code cells, return if all of the keyword appear in at least one of them.\n",
    "    \"\"\"\n",
    "    keywords_found = {keyword: False for keyword in keywords}\n",
    "    notebook_noncode_cells = filter(lambda cell: cell['cell_type'] != 'code', notebook_json['cells'])\n",
    "    for cell in notebook_noncode_cells:\n",
    "        for keyword in keywords:\n",
    "            cell_content = \"    \".join(cell['source']).lower()\n",
    "            if keyword in cell_content:\n",
    "                keywords_found[keyword] = True\n",
    "    return all(keywords_found.values())"
   ]
  },
  {
   "cell_type": "code",
   "execution_count": 53,
   "metadata": {
    "ExecuteTime": {
     "end_time": "2022-03-27T22:10:07.543135Z",
     "start_time": "2022-03-27T22:10:07.537151Z"
    }
   },
   "outputs": [
    {
     "data": {
      "text/plain": [
       "False"
      ]
     },
     "execution_count": 53,
     "metadata": {},
     "output_type": "execute_result"
    }
   ],
   "source": [
    "find_keywords_in_notebook_json(read_json_file(notebook_files, 0))"
   ]
  }
 ],
 "metadata": {
  "kernelspec": {
   "display_name": "Python 3",
   "language": "python",
   "name": "python3"
  },
  "language_info": {
   "codemirror_mode": {
    "name": "ipython",
    "version": 3
   },
   "file_extension": ".py",
   "mimetype": "text/x-python",
   "name": "python",
   "nbconvert_exporter": "python",
   "pygments_lexer": "ipython3",
   "version": "3.7.4"
  },
  "toc": {
   "base_numbering": 1,
   "nav_menu": {},
   "number_sections": true,
   "sideBar": true,
   "skip_h1_title": false,
   "title_cell": "Table of Contents",
   "title_sidebar": "Contents",
   "toc_cell": false,
   "toc_position": {},
   "toc_section_display": true,
   "toc_window_display": false
  }
 },
 "nbformat": 4,
 "nbformat_minor": 2
}
