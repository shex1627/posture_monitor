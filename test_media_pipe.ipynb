{
 "cells": [
  {
   "cell_type": "markdown",
   "metadata": {},
   "source": [
    "Test Various Mediapipe API and see which one works best for my siutation"
   ]
  },
  {
   "cell_type": "code",
   "execution_count": 1,
   "metadata": {
    "ExecuteTime": {
     "end_time": "2022-01-03T02:40:24.670832Z",
     "start_time": "2022-01-03T02:40:24.300821Z"
    }
   },
   "outputs": [],
   "source": [
    "import cv2\n",
    "import mediapipe as mp"
   ]
  },
  {
   "cell_type": "code",
   "execution_count": 2,
   "metadata": {
    "ExecuteTime": {
     "end_time": "2022-01-03T02:40:24.674821Z",
     "start_time": "2022-01-03T02:40:24.671828Z"
    }
   },
   "outputs": [],
   "source": [
    "mp_drawing = mp.solutions.drawing_utils\n",
    "mp_drawing_styles = mp.solutions.drawing_styles\n",
    "mp_pose = mp.solutions.pose"
   ]
  },
  {
   "cell_type": "code",
   "execution_count": 3,
   "metadata": {
    "ExecuteTime": {
     "end_time": "2022-01-03T02:40:30.286770Z",
     "start_time": "2022-01-03T02:40:24.675819Z"
    }
   },
   "outputs": [],
   "source": [
    "# For webcam input:\n",
    "cap = cv2.VideoCapture(0)\n",
    "with mp_pose.Pose(\n",
    "    min_detection_confidence=0.5,\n",
    "    min_tracking_confidence=0.5) as pose:\n",
    "    while cap.isOpened():\n",
    "        success, image = cap.read()\n",
    "        if not success:\n",
    "            print(\"Ignoring empty camera frame.\")\n",
    "            # If loading a video, use 'break' instead of 'continue'.\n",
    "            continue\n",
    "\n",
    "        # To improve performance, optionally mark the image as not writeable to\n",
    "        # pass by reference.\n",
    "        image.flags.writeable = False\n",
    "        image = cv2.cvtColor(image, cv2.COLOR_BGR2RGB)\n",
    "        results = pose.process(image)\n",
    "\n",
    "        # Draw the pose annotation on the image.\n",
    "        image.flags.writeable = True\n",
    "        image = cv2.cvtColor(image, cv2.COLOR_RGB2BGR)\n",
    "        mp_drawing.draw_landmarks(\n",
    "            image,\n",
    "            results.pose_landmarks,\n",
    "            mp_pose.POSE_CONNECTIONS,\n",
    "            landmark_drawing_spec=mp_drawing_styles.get_default_pose_landmarks_style())\n",
    "        # Flip the image horizontally for a selfie-view display.\n",
    "        cv2.imshow('MediaPipe Pose', cv2.flip(image, 1))\n",
    "        # leave app when click `esc` key\n",
    "        if cv2.waitKey(5) & 0xFF == 27:\n",
    "            cv2.destroyWindow('MediaPipe Pose')\n",
    "            break\n",
    "cap.release()"
   ]
  },
  {
   "cell_type": "raw",
   "metadata": {
    "ExecuteTime": {
     "end_time": "2022-01-03T02:40:30.291729Z",
     "start_time": "2022-01-03T02:40:30.287739Z"
    }
   },
   "source": [
    "C:\\Users\\alistar\\Desktop\\ds\\posture_gcp\n",
    "    C:\\Users\\alistar\\.jupyter\\jupyter_notebook_config.py"
   ]
  },
  {
   "cell_type": "code",
   "execution_count": 6,
   "metadata": {
    "ExecuteTime": {
     "end_time": "2022-01-03T02:40:47.764052Z",
     "start_time": "2022-01-03T02:40:47.760059Z"
    }
   },
   "outputs": [
    {
     "data": {
      "text/plain": [
       "mediapipe.framework.formats.landmark_pb2.NormalizedLandmarkList"
      ]
     },
     "execution_count": 6,
     "metadata": {},
     "output_type": "execute_result"
    }
   ],
   "source": [
    "type(results.pose_landmarks)"
   ]
  },
  {
   "cell_type": "code",
   "execution_count": 21,
   "metadata": {
    "ExecuteTime": {
     "end_time": "2022-01-03T02:42:07.234631Z",
     "start_time": "2022-01-03T02:42:07.230640Z"
    }
   },
   "outputs": [
    {
     "data": {
      "text/plain": [
       "33"
      ]
     },
     "execution_count": 21,
     "metadata": {},
     "output_type": "execute_result"
    }
   ],
   "source": [
    "len(results.pose_landmarks.ListFields()[0][1])"
   ]
  },
  {
   "cell_type": "code",
   "execution_count": 27,
   "metadata": {
    "ExecuteTime": {
     "end_time": "2022-01-03T02:42:49.390842Z",
     "start_time": "2022-01-03T02:42:49.387850Z"
    }
   },
   "outputs": [],
   "source": [
    "landmark_lst = results.pose_landmarks.ListFields()[0][1]"
   ]
  },
  {
   "cell_type": "code",
   "execution_count": 24,
   "metadata": {
    "ExecuteTime": {
     "end_time": "2022-01-03T02:42:24.223013Z",
     "start_time": "2022-01-03T02:42:24.219024Z"
    }
   },
   "outputs": [],
   "source": [
    "landmark_sample=  results.pose_landmarks.ListFields()[0][1][0]"
   ]
  },
  {
   "cell_type": "code",
   "execution_count": 28,
   "metadata": {
    "ExecuteTime": {
     "end_time": "2022-01-03T02:43:07.729862Z",
     "start_time": "2022-01-03T02:43:07.725876Z"
    }
   },
   "outputs": [
    {
     "data": {
      "text/plain": [
       "x: 0.3668021559715271\n",
       "y: 0.6223393678665161\n",
       "z: -0.72599196434021\n",
       "visibility: 0.9997633695602417"
      ]
     },
     "execution_count": 28,
     "metadata": {},
     "output_type": "execute_result"
    }
   ],
   "source": [
    "landmark_lst[12]"
   ]
  },
  {
   "cell_type": "code",
   "execution_count": 31,
   "metadata": {
    "ExecuteTime": {
     "end_time": "2022-01-03T02:44:04.026526Z",
     "start_time": "2022-01-03T02:44:04.022536Z"
    },
    "scrolled": true
   },
   "outputs": [
    {
     "data": {
      "text/plain": [
       "mediapipe.framework.formats.landmark_pb2.NormalizedLandmark"
      ]
     },
     "execution_count": 31,
     "metadata": {},
     "output_type": "execute_result"
    }
   ],
   "source": [
    "type(landmark_lst[11])"
   ]
  },
  {
   "cell_type": "code",
   "execution_count": 35,
   "metadata": {
    "ExecuteTime": {
     "end_time": "2022-01-03T02:47:37.310022Z",
     "start_time": "2022-01-03T02:47:37.306006Z"
    }
   },
   "outputs": [],
   "source": [
    "def calculate_landmark_line(landmark1:mp.framework.formats.landmark_pb2.NormalizedLandmark, \n",
    "                  landmark2:mp.framework.formats.landmark_pb2.NormalizedLandmark) -> tuple:\n",
    "    slope = (landmark2.y - landmark1.y)/(landmark2.x - landmark1.x)\n",
    "    y_intercept = landmark1.y - slope * landmark1.x\n",
    "    return (slope, y_intercept)"
   ]
  },
  {
   "cell_type": "code",
   "execution_count": 36,
   "metadata": {
    "ExecuteTime": {
     "end_time": "2022-01-03T02:47:50.181212Z",
     "start_time": "2022-01-03T02:47:50.176225Z"
    }
   },
   "outputs": [
    {
     "data": {
      "text/plain": [
       "(0.02987663321608766, 0.6113805543896846)"
      ]
     },
     "execution_count": 36,
     "metadata": {},
     "output_type": "execute_result"
    }
   ],
   "source": [
    "calculate_landmark_line(landmark_lst[12], landmark_lst[11])"
   ]
  }
 ],
 "metadata": {
  "kernelspec": {
   "display_name": "Python 3",
   "language": "python",
   "name": "python3"
  },
  "language_info": {
   "codemirror_mode": {
    "name": "ipython",
    "version": 3
   },
   "file_extension": ".py",
   "mimetype": "text/x-python",
   "name": "python",
   "nbconvert_exporter": "python",
   "pygments_lexer": "ipython3",
   "version": "3.7.4"
  },
  "toc": {
   "base_numbering": 1,
   "nav_menu": {},
   "number_sections": true,
   "sideBar": true,
   "skip_h1_title": false,
   "title_cell": "Table of Contents",
   "title_sidebar": "Contents",
   "toc_cell": false,
   "toc_position": {},
   "toc_section_display": true,
   "toc_window_display": false
  }
 },
 "nbformat": 4,
 "nbformat_minor": 2
}
